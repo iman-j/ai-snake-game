{
 "cells": [
  {
   "cell_type": "code",
   "execution_count": 1,
   "metadata": {},
   "outputs": [],
   "source": [
    "import pyautogui\n",
    "from pynput.keyboard import Key, Listener\n",
    "import numpy as np\n",
    "from time import sleep\n",
    "from PIL import Image\n",
    "#from IPython.display import Image as IPImage\n",
    "# IPImage(filename='test_1.png')\n",
    "import matplotlib.pyplot as plt"
   ]
  },
  {
   "cell_type": "code",
   "execution_count": null,
   "metadata": {},
   "outputs": [],
   "source": []
  },
  {
   "cell_type": "code",
   "execution_count": null,
   "metadata": {},
   "outputs": [],
   "source": []
  },
  {
   "cell_type": "code",
   "execution_count": 2,
   "metadata": {},
   "outputs": [],
   "source": [
    "def take_screenshot(img_name, x_pos, y_pos):\n",
    "    # Taking the min and the max of the mouse position so that the order of the PCP (Picture Click Position) does not affect the screenshot\n",
    "    x_init = min(x_pos) \n",
    "    x_final = max(x_pos)\n",
    "    y_init = min(y_pos)\n",
    "    y_final = max(y_pos)\n",
    "    pyautogui.screenshot(img_name+'.png', region=(x_init,y_init,np.abs(x_init-x_final),np.abs(y_init-y_final)))"
   ]
  },
  {
   "cell_type": "code",
   "execution_count": 3,
   "metadata": {},
   "outputs": [],
   "source": [
    "def take_continuous_screenshot(img_name, count, x_pos, y_pos):\n",
    "    # Taking the min and the max of the mouse position so that the order of the PCP (Picture Click Position) does not affect the screenshot\n",
    "    x_init = min(x_pos) \n",
    "    x_final = max(x_pos)\n",
    "    y_init = min(y_pos)\n",
    "    y_final = max(y_pos)\n",
    "    i=1;\n",
    "    while i<=count:\n",
    "        pyautogui.screenshot(img_name + '_' + str(i) +'.png', region=(x_init,y_init,np.abs(x_init-x_final),np.abs(y_init-y_final)))\n",
    "        print(\"Saved image: \" + img_name + '_' + str(i))\n",
    "        i=i+1"
   ]
  },
  {
   "cell_type": "code",
   "execution_count": 64,
   "metadata": {},
   "outputs": [
    {
     "name": "stdout",
     "output_type": "stream",
     "text": [
      "Key.shift pressed\n",
      "Key.ctrl_l pressed\n"
     ]
    }
   ],
   "source": [
    "# Keyboard click position\n",
    "x_pos = []\n",
    "y_pos = []\n",
    "def on_press(key):\n",
    "    print('{0} pressed'.format(\n",
    "        key))\n",
    "    if key == Key.shift:\n",
    "        x_pos.append(pyautogui.position()[0])\n",
    "        y_pos.append(pyautogui.position()[1])\n",
    "    if key == Key.ctrl_l:\n",
    "        # Stop listener\n",
    "        x_pos.append(pyautogui.position()[0])\n",
    "        y_pos.append(pyautogui.position()[1])\n",
    "        return False\n",
    "    #if key == Key.alt_l:\n",
    "    #    return False\n",
    "        \n",
    "\n",
    "# Collect events until released\n",
    "with Listener(\n",
    "        on_press=on_press) as listener:\n",
    "    listener.join()"
   ]
  },
  {
   "cell_type": "code",
   "execution_count": 70,
   "metadata": {},
   "outputs": [
    {
     "name": "stdout",
     "output_type": "stream",
     "text": [
      "Saved test_1\n",
      "Saved test_2\n",
      "Saved test_3\n",
      "Saved test_4\n",
      "Saved test_5\n",
      "Saved test_6\n",
      "Saved test_7\n",
      "Saved test_8\n",
      "Saved test_9\n",
      "Saved test_10\n"
     ]
    }
   ],
   "source": [
    "sleep(5)\n",
    "take_continuous_screenshot(\"snake_screenshot\", 10, x_pos, y_pos)"
   ]
  },
  {
   "cell_type": "code",
   "execution_count": 4,
   "metadata": {},
   "outputs": [],
   "source": [
    "def normalise_img(pixels):\n",
    "    pixels = pixels.astype('float32')\n",
    "    pixels = (pixels/pixels.max())*255\n",
    "    #print('Data Type: %s' % pixels_1.dtype)\n",
    "    #print('Min: %.2f, Max: %.2f' % (pixels_1.min(), pixels_1.max()))\n",
    "    return pixels    "
   ]
  },
  {
   "cell_type": "code",
   "execution_count": 5,
   "metadata": {},
   "outputs": [],
   "source": [
    "def subtract_img(img_a, img_b):\n",
    "    image_org_a = Image.open(img_a)\n",
    "    image_org_b = Image.open(img_b)\n",
    "    pixels_a = np.asarray(image_org_a)    \n",
    "    pixels_b = np.asarray(image_org_b)\n",
    "    pixels_a = normalise_img(pixels_a)\n",
    "    pixels_b = normalise_img(pixels_b)\n",
    "    pixels_ab = pixels_test =  pixels_a - pixels_b\n",
    "    pixels_ab[pixels_ab<0]=0\n",
    "    return Image.fromarray(np.uint8(pixels_test)) \n",
    "#pixels_1 = normalise_img(pixels_1)"
   ]
  },
  {
   "cell_type": "code",
   "execution_count": 8,
   "metadata": {},
   "outputs": [
    {
     "data": {
      "image/png": "[encoded data removed]",
      "text/plain": [
       "<matplotlib.figure.Figure at 0x23b44cdbcc0>"
      ]
     },
     "metadata": {},
     "output_type": "display_data"
    }
   ],
   "source": [
    "plt.imshow(subtract_img('test_1.png', 'test_2.png'))\n",
    "plt.colorbar()\n",
    "plt.show()"
   ]
  },
  {
   "cell_type": "code",
   "execution_count": 9,
   "metadata": {},
   "outputs": [
    {
     "name": "stdout",
     "output_type": "stream",
     "text": [
      "Image 1:\n",
      "RGB\n",
      "(604, 435)\n",
      "Image 1:\n",
      "RGB\n",
      "(604, 435)\n"
     ]
    }
   ],
   "source": [
    "for i in range(1,3):\n",
    "    image_name = 'test_' + str(i)\n",
    "    image = Image.open(image_name+'.png')\n",
    "    print(\"Image 1:\")\n",
    "    print(image.mode)\n",
    "    print(image.size)\n",
    "    plt.imshow(image)\n",
    "    \n",
    "#plt.show()"
   ]
  },
  {
   "cell_type": "code",
   "execution_count": null,
   "metadata": {},
   "outputs": [],
   "source": []
  },
  {
   "cell_type": "code",
   "execution_count": null,
   "metadata": {},
   "outputs": [],
   "source": []
  },
  {
   "cell_type": "code",
   "execution_count": null,
   "metadata": {},
   "outputs": [],
   "source": []
  },
  {
   "cell_type": "code",
   "execution_count": null,
   "metadata": {},
   "outputs": [],
   "source": []
  },
  {
   "cell_type": "code",
   "execution_count": null,
   "metadata": {},
   "outputs": [],
   "source": []
  },
  {
   "cell_type": "code",
   "execution_count": null,
   "metadata": {},
   "outputs": [],
   "source": []
  },
  {
   "cell_type": "code",
   "execution_count": null,
   "metadata": {},
   "outputs": [],
   "source": []
  },
  {
   "cell_type": "code",
   "execution_count": null,
   "metadata": {},
   "outputs": [],
   "source": []
  },
  {
   "cell_type": "code",
   "execution_count": null,
   "metadata": {},
   "outputs": [],
   "source": []
  },
  {
   "cell_type": "code",
   "execution_count": null,
   "metadata": {},
   "outputs": [],
   "source": []
  },
  {
   "cell_type": "code",
   "execution_count": null,
   "metadata": {},
   "outputs": [],
   "source": []
  },
  {
   "cell_type": "code",
   "execution_count": 240,
   "metadata": {},
   "outputs": [
    {
     "data": {
      "image/png": "[encoded data removed]",
      "text/plain": [
       "<matplotlib.figure.Figure at 0x1ce0aeb5438>"
      ]
     },
     "metadata": {},
     "output_type": "display_data"
    }
   ],
   "source": [
    "pixels_test = np.asarray(image_test2)\n",
    "img = Image.fromarray(pixels_test, 'RGB')\n",
    "pixels = pixels_2.astype('float32')\n",
    "plt.imshow(img)\n",
    "plt.colorbar()\n",
    "plt.show()\n"
   ]
  },
  {
   "cell_type": "code",
   "execution_count": 238,
   "metadata": {},
   "outputs": [
    {
     "data": {
      "text/plain": [
       "array([[[101,  70, 166],\n",
       "        [101,  70, 166],\n",
       "        [101,  70, 166],\n",
       "        ..., \n",
       "        [101,  70, 166],\n",
       "        [101,  70, 166],\n",
       "        [101,  70, 166]],\n",
       "\n",
       "       [[101,  70, 166],\n",
       "        [101,  70, 166],\n",
       "        [101,  70, 166],\n",
       "        ..., \n",
       "        [101,  70, 166],\n",
       "        [101,  70, 166],\n",
       "        [101,  70, 166]],\n",
       "\n",
       "       [[101,  70, 166],\n",
       "        [217, 209, 233],\n",
       "        [217, 209, 233],\n",
       "        ..., \n",
       "        [101,  70, 166],\n",
       "        [101,  70, 166],\n",
       "        [101,  70, 166]],\n",
       "\n",
       "       ..., \n",
       "       [[101,  70, 166],\n",
       "        [217, 209, 233],\n",
       "        [217, 209, 233],\n",
       "        ..., \n",
       "        [101,  70, 166],\n",
       "        [101,  70, 166],\n",
       "        [101,  70, 166]],\n",
       "\n",
       "       [[101,  70, 166],\n",
       "        [217, 209, 233],\n",
       "        [217, 209, 233],\n",
       "        ..., \n",
       "        [101,  70, 166],\n",
       "        [101,  70, 166],\n",
       "        [101,  70, 166]],\n",
       "\n",
       "       [[101,  70, 166],\n",
       "        [101,  70, 166],\n",
       "        [101,  70, 166],\n",
       "        ..., \n",
       "        [101,  70, 166],\n",
       "        [101,  70, 166],\n",
       "        [101,  70, 166]]], dtype=uint8)"
      ]
     },
     "execution_count": 238,
     "metadata": {},
     "output_type": "execute_result"
    }
   ],
   "source": [
    "pixels_2*255"
   ]
  },
  {
   "cell_type": "code",
   "execution_count": null,
   "metadata": {},
   "outputs": [],
   "source": []
  },
  {
   "cell_type": "code",
   "execution_count": null,
   "metadata": {},
   "outputs": [],
   "source": []
  },
  {
   "cell_type": "code",
   "execution_count": null,
   "metadata": {},
   "outputs": [],
   "source": []
  },
  {
   "cell_type": "code",
   "execution_count": null,
   "metadata": {},
   "outputs": [],
   "source": []
  },
  {
   "cell_type": "code",
   "execution_count": null,
   "metadata": {},
   "outputs": [],
   "source": []
  },
  {
   "cell_type": "code",
   "execution_count": 57,
   "metadata": {},
   "outputs": [
    {
     "name": "stdout",
     "output_type": "stream",
     "text": [
      "Pressed at (428, 330)\n",
      "Released at (868, 605)\n"
     ]
    }
   ],
   "source": [
    "# Mouse click position\n",
    "x_pos = []\n",
    "y_pos = []\n",
    "def on_click(x, y, button, pressed):\n",
    "    print('{0} at {1}'.format('Pressed' if pressed else 'Released',(x, y)))\n",
    "    if pressed:\n",
    "        x_pos.append(x)\n",
    "        y_pos.append(y)  \n",
    "    if not pressed:\n",
    "        x_pos.append(x)\n",
    "        y_pos.append(y) \n",
    "        if(str(button) == \"Button.right\"):\n",
    "            pyautogui.screenshot('my_screenshot.png', region=(np.abs(x_pos[0]-x_pos[1]),np.abs(y_pos[0]-y_pos[1]), 300, 400))        \n",
    "        return False\n",
    "    \n",
    "listener = mouse.Listener(\n",
    "    on_click=on_click)\n",
    "listener.start()"
   ]
  },
  {
   "cell_type": "code",
   "execution_count": null,
   "metadata": {},
   "outputs": [],
   "source": []
  },
  {
   "cell_type": "code",
   "execution_count": 11,
   "metadata": {},
   "outputs": [
    {
     "name": "stdout",
     "output_type": "stream",
     "text": [
      "<PIL.Image.Image image mode=RGB size=300x400 at 0x1EC8828D550>\n"
     ]
    }
   ],
   "source": [
    "im = pyautogui.screenshot('my_screenshot.png', region=(0,0, 300, 400))"
   ]
  },
  {
   "cell_type": "code",
   "execution_count": 55,
   "metadata": {},
   "outputs": [
    {
     "data": {
      "text/plain": [
       "[1457, 1153]"
      ]
     },
     "execution_count": 55,
     "metadata": {},
     "output_type": "execute_result"
    }
   ],
   "source": [
    "x_pos"
   ]
  },
  {
   "cell_type": "code",
   "execution_count": 56,
   "metadata": {},
   "outputs": [
    {
     "data": {
      "text/plain": [
       "304"
      ]
     },
     "execution_count": 56,
     "metadata": {},
     "output_type": "execute_result"
    }
   ],
   "source": [
    "np.abs(x_pos[0]-x_pos[1])"
   ]
  },
  {
   "cell_type": "code",
   "execution_count": 11,
   "metadata": {},
   "outputs": [
    {
     "name": "stdout",
     "output_type": "stream",
     "text": [
      "Point(x=603, y=912)\n",
      "603\n",
      "912\n"
     ]
    }
   ],
   "source": [
    "x = pyautogui.position()\n",
    "print(x)\n",
    "print(x[0])\n",
    "print(x[1])"
   ]
  },
  {
   "cell_type": "code",
   "execution_count": 13,
   "metadata": {},
   "outputs": [
    {
     "data": {
      "text/plain": [
       "614"
      ]
     },
     "execution_count": 13,
     "metadata": {},
     "output_type": "execute_result"
    }
   ],
   "source": [
    "pyautogui.position()[0]"
   ]
  },
  {
   "cell_type": "code",
   "execution_count": 13,
   "metadata": {},
   "outputs": [
    {
     "data": {
      "text/plain": [
       "[822, 421]"
      ]
     },
     "execution_count": 13,
     "metadata": {},
     "output_type": "execute_result"
    }
   ],
   "source": [
    "x_pos"
   ]
  },
  {
   "cell_type": "code",
   "execution_count": 14,
   "metadata": {},
   "outputs": [
    {
     "data": {
      "text/plain": [
       "421"
      ]
     },
     "execution_count": 14,
     "metadata": {},
     "output_type": "execute_result"
    }
   ],
   "source": [
    "min(x_pos)"
   ]
  },
  {
   "cell_type": "code",
   "execution_count": null,
   "metadata": {},
   "outputs": [],
   "source": [
    "x = np.linspace(-10,10,num=50)\n",
    "r = 10;\n",
    "y = (r^2)-(np.square(x))\n",
    "for i in range(10):\n",
    "    pyautogui.moveTo(100, 100, duration=0.25)\n",
    "    pyautogui.moveTo(200, 100, duration=0.25)\n",
    "    pyautogui.moveTo(200, 200, duration=0.25)\n",
    "    pyautogui.moveTo(100, 200, duration=0.25)"
   ]
  }
 ],
 "metadata": {
  "kernelspec": {
   "display_name": "Python 3",
   "language": "python",
   "name": "python3"
  },
  "language_info": {
   "codemirror_mode": {
    "name": "ipython",
    "version": 3
   },
   "file_extension": ".py",
   "mimetype": "text/x-python",
   "name": "python",
   "nbconvert_exporter": "python",
   "pygments_lexer": "ipython3",
   "version": "3.6.3"
  }
 },
 "nbformat": 4,
 "nbformat_minor": 2
}
