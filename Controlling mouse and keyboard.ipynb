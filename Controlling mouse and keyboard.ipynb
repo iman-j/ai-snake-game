{
 "cells": [
  {
   "cell_type": "code",
   "execution_count": 18,
   "metadata": {},
   "outputs": [],
   "source": [
    "import pyautogui\n",
    "from pynput.keyboard import Key, Listener\n",
    "import numpy as np"
   ]
  },
  {
   "cell_type": "code",
   "execution_count": 17,
   "metadata": {},
   "outputs": [
    {
     "name": "stdout",
     "output_type": "stream",
     "text": [
      "Key.shift pressed\n",
      "Key.ctrl_l pressed\n"
     ]
    }
   ],
   "source": [
    "# Keyboard click position\n",
    "x_pos = []\n",
    "y_pos = []\n",
    "\n",
    "def on_press(key):\n",
    "    print('{0} pressed'.format(\n",
    "        key))\n",
    "    if key == Key.shift:\n",
    "        x_pos.append(pyautogui.position()[0])\n",
    "        y_pos.append(pyautogui.position()[1])\n",
    "        # Stop listener\n",
    "    if key == Key.ctrl_l:\n",
    "        # Stop listener\n",
    "        x_pos.append(pyautogui.position()[0])\n",
    "        y_pos.append(pyautogui.position()[1])\n",
    "        take_screenshot(\"test\", x_pos, y_pos)\n",
    "        return False\n",
    "\n",
    "# Collect events until released\n",
    "with Listener(\n",
    "        on_press=on_press) as listener:\n",
    "    listener.join()"
   ]
  },
  {
   "cell_type": "code",
   "execution_count": 15,
   "metadata": {},
   "outputs": [],
   "source": [
    "def take_screenshot(img_name, x_pos, y_pos):\n",
    "    # Taking the min and the max of the mouse position so that the order of the PCP (Picture Click Position) does not affect the screenshot\n",
    "    x_init = min(x_pos) \n",
    "    x_final = max(x_pos)\n",
    "    y_init = min(y_pos)\n",
    "    y_final = max(y_pos)\n",
    "    pyautogui.screenshot(img_name+'.png', region=(x_init,y_init,np.abs(x_init-x_final),np.abs(y_init-y_final)))"
   ]
  },
  {
   "cell_type": "code",
   "execution_count": 18,
   "metadata": {},
   "outputs": [
    {
     "data": {
      "text/plain": [
       "[241, 759]"
      ]
     },
     "execution_count": 18,
     "metadata": {},
     "output_type": "execute_result"
    }
   ],
   "source": [
    "y_pos"
   ]
  },
  {
   "cell_type": "code",
   "execution_count": null,
   "metadata": {},
   "outputs": [],
   "source": []
  },
  {
   "cell_type": "code",
   "execution_count": null,
   "metadata": {},
   "outputs": [],
   "source": []
  },
  {
   "cell_type": "code",
   "execution_count": null,
   "metadata": {},
   "outputs": [],
   "source": []
  },
  {
   "cell_type": "code",
   "execution_count": null,
   "metadata": {},
   "outputs": [],
   "source": []
  },
  {
   "cell_type": "code",
   "execution_count": null,
   "metadata": {},
   "outputs": [],
   "source": []
  },
  {
   "cell_type": "code",
   "execution_count": null,
   "metadata": {},
   "outputs": [],
   "source": []
  },
  {
   "cell_type": "code",
   "execution_count": null,
   "metadata": {},
   "outputs": [],
   "source": []
  },
  {
   "cell_type": "code",
   "execution_count": null,
   "metadata": {},
   "outputs": [],
   "source": []
  },
  {
   "cell_type": "code",
   "execution_count": null,
   "metadata": {},
   "outputs": [],
   "source": []
  },
  {
   "cell_type": "code",
   "execution_count": null,
   "metadata": {},
   "outputs": [],
   "source": []
  },
  {
   "cell_type": "code",
   "execution_count": null,
   "metadata": {},
   "outputs": [],
   "source": []
  },
  {
   "cell_type": "code",
   "execution_count": null,
   "metadata": {},
   "outputs": [],
   "source": []
  },
  {
   "cell_type": "code",
   "execution_count": null,
   "metadata": {},
   "outputs": [],
   "source": []
  },
  {
   "cell_type": "code",
   "execution_count": null,
   "metadata": {},
   "outputs": [],
   "source": []
  },
  {
   "cell_type": "code",
   "execution_count": null,
   "metadata": {},
   "outputs": [],
   "source": []
  },
  {
   "cell_type": "code",
   "execution_count": null,
   "metadata": {},
   "outputs": [],
   "source": []
  },
  {
   "cell_type": "code",
   "execution_count": 57,
   "metadata": {},
   "outputs": [
    {
     "name": "stdout",
     "output_type": "stream",
     "text": [
      "Pressed at (428, 330)\n",
      "Released at (868, 605)\n"
     ]
    }
   ],
   "source": [
    "# Mouse click position\n",
    "x_pos = []\n",
    "y_pos = []\n",
    "def on_click(x, y, button, pressed):\n",
    "    print('{0} at {1}'.format('Pressed' if pressed else 'Released',(x, y)))\n",
    "    if pressed:\n",
    "        x_pos.append(x)\n",
    "        y_pos.append(y)  \n",
    "    if not pressed:\n",
    "        x_pos.append(x)\n",
    "        y_pos.append(y) \n",
    "        if(str(button) == \"Button.right\"):\n",
    "            pyautogui.screenshot('my_screenshot.png', region=(np.abs(x_pos[0]-x_pos[1]),np.abs(y_pos[0]-y_pos[1]), 300, 400))        \n",
    "        return False\n",
    "    \n",
    "listener = mouse.Listener(\n",
    "    on_click=on_click)\n",
    "listener.start()"
   ]
  },
  {
   "cell_type": "code",
   "execution_count": null,
   "metadata": {},
   "outputs": [],
   "source": []
  },
  {
   "cell_type": "code",
   "execution_count": 11,
   "metadata": {},
   "outputs": [
    {
     "name": "stdout",
     "output_type": "stream",
     "text": [
      "<PIL.Image.Image image mode=RGB size=300x400 at 0x1EC8828D550>\n"
     ]
    }
   ],
   "source": [
    "im = pyautogui.screenshot('my_screenshot.png', region=(0,0, 300, 400))"
   ]
  },
  {
   "cell_type": "code",
   "execution_count": 55,
   "metadata": {},
   "outputs": [
    {
     "data": {
      "text/plain": [
       "[1457, 1153]"
      ]
     },
     "execution_count": 55,
     "metadata": {},
     "output_type": "execute_result"
    }
   ],
   "source": [
    "x_pos"
   ]
  },
  {
   "cell_type": "code",
   "execution_count": 56,
   "metadata": {},
   "outputs": [
    {
     "data": {
      "text/plain": [
       "304"
      ]
     },
     "execution_count": 56,
     "metadata": {},
     "output_type": "execute_result"
    }
   ],
   "source": [
    "np.abs(x_pos[0]-x_pos[1])"
   ]
  },
  {
   "cell_type": "code",
   "execution_count": 11,
   "metadata": {},
   "outputs": [
    {
     "name": "stdout",
     "output_type": "stream",
     "text": [
      "Point(x=603, y=912)\n",
      "603\n",
      "912\n"
     ]
    }
   ],
   "source": [
    "x = pyautogui.position()\n",
    "print(x)\n",
    "print(x[0])\n",
    "print(x[1])"
   ]
  },
  {
   "cell_type": "code",
   "execution_count": 13,
   "metadata": {},
   "outputs": [
    {
     "data": {
      "text/plain": [
       "614"
      ]
     },
     "execution_count": 13,
     "metadata": {},
     "output_type": "execute_result"
    }
   ],
   "source": [
    "pyautogui.position()[0]"
   ]
  },
  {
   "cell_type": "code",
   "execution_count": 13,
   "metadata": {},
   "outputs": [
    {
     "data": {
      "text/plain": [
       "[822, 421]"
      ]
     },
     "execution_count": 13,
     "metadata": {},
     "output_type": "execute_result"
    }
   ],
   "source": [
    "x_pos"
   ]
  },
  {
   "cell_type": "code",
   "execution_count": 14,
   "metadata": {},
   "outputs": [
    {
     "data": {
      "text/plain": [
       "421"
      ]
     },
     "execution_count": 14,
     "metadata": {},
     "output_type": "execute_result"
    }
   ],
   "source": [
    "min(x_pos)"
   ]
  },
  {
   "cell_type": "code",
   "execution_count": null,
   "metadata": {},
   "outputs": [],
   "source": [
    "x = np.linspace(-10,10,num=50)\n",
    "r = 10;\n",
    "y = (r^2)-(np.square(x))\n",
    "for i in range(10):\n",
    "    pyautogui.moveTo(100, 100, duration=0.25)\n",
    "    pyautogui.moveTo(200, 100, duration=0.25)\n",
    "    pyautogui.moveTo(200, 200, duration=0.25)\n",
    "    pyautogui.moveTo(100, 200, duration=0.25)"
   ]
  }
 ],
 "metadata": {
  "kernelspec": {
   "display_name": "Python 3",
   "language": "python",
   "name": "python3"
  },
  "language_info": {
   "codemirror_mode": {
    "name": "ipython",
    "version": 3
   },
   "file_extension": ".py",
   "mimetype": "text/x-python",
   "name": "python",
   "nbconvert_exporter": "python",
   "pygments_lexer": "ipython3",
   "version": "3.6.3"
  }
 },
 "nbformat": 4,
 "nbformat_minor": 2
}
